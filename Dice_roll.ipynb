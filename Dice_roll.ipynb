{
 "cells": [
  {
   "cell_type": "code",
   "execution_count": 1,
   "metadata": {},
   "outputs": [
    {
     "name": "stdout",
     "output_type": "stream",
     "text": [
      "6: 17% ****************\n",
      "4: 17% ****************\n",
      "1: 17% ****************\n",
      "2: 17% ****************\n",
      "3: 16% ****************\n",
      "5: 17% ****************\n"
     ]
    }
   ],
   "source": [
    "import collections\n",
    "import random\n",
    "\n",
    "def roll():\n",
    "  return random.randint(1, 6)\n",
    "\n",
    "def run(n):\n",
    "  total = 0\n",
    "  rolls = []\n",
    "  while total <= n:\n",
    "    cur = roll()\n",
    "    rolls.append(cur)\n",
    "    total += cur\n",
    "  return rolls[-2]\n",
    "\n",
    "def main():\n",
    "  random.seed()\n",
    "  ITERATIONS = 10000\n",
    "  count = collections.Counter(\n",
    "      run(63) for _ in range(ITERATIONS))\n",
    "  for value, cnt in count.items():\n",
    "    chance = cnt * 100 / float(ITERATIONS)\n",
    "    print('%d: %2.0f%% %s' % (\n",
    "        value, chance, '*' * int(chance)))\n",
    "\n",
    "main()"
   ]
  }
 ],
 "metadata": {
  "kernelspec": {
   "display_name": "base",
   "language": "python",
   "name": "python3"
  },
  "language_info": {
   "codemirror_mode": {
    "name": "ipython",
    "version": 3
   },
   "file_extension": ".py",
   "mimetype": "text/x-python",
   "name": "python",
   "nbconvert_exporter": "python",
   "pygments_lexer": "ipython3",
   "version": "3.9.13"
  },
  "orig_nbformat": 4
 },
 "nbformat": 4,
 "nbformat_minor": 2
}
