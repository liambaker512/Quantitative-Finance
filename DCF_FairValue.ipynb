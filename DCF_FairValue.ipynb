{
 "cells": [
  {
   "cell_type": "code",
   "execution_count": 1,
   "metadata": {},
   "outputs": [],
   "source": [
    "import yfinance as yf \n",
    "import pandas as pd \n",
    "import numpy as np \n"
   ]
  },
  {
   "cell_type": "code",
   "execution_count": 2,
   "metadata": {},
   "outputs": [
    {
     "ename": "NameError",
     "evalue": "name 'yf' is not defined",
     "output_type": "error",
     "traceback": [
      "\u001b[0;31m---------------------------------------------------------------------------\u001b[0m",
      "\u001b[0;31mNameError\u001b[0m                                 Traceback (most recent call last)",
      "Cell \u001b[0;32mIn[2], line 2\u001b[0m\n\u001b[1;32m      1\u001b[0m \u001b[39m# The tickers intrinsic value calculation\u001b[39;00m\n\u001b[0;32m----> 2\u001b[0m ticker \u001b[39m=\u001b[39m yf\u001b[39m.\u001b[39mTicker(\u001b[39m\"\u001b[39m\u001b[39maapl\u001b[39m\u001b[39m\"\u001b[39m)\n\u001b[1;32m      4\u001b[0m outstandingshares \u001b[39m=\u001b[39m ticker\u001b[39m.\u001b[39minfo[\u001b[39m\"\u001b[39m\u001b[39msharesOutstanding\u001b[39m\u001b[39m\"\u001b[39m] \u001b[39m# Fetch number of shares \u001b[39;00m\n\u001b[1;32m      5\u001b[0m \u001b[39m# assumptions \u001b[39;00m\n",
      "\u001b[0;31mNameError\u001b[0m: name 'yf' is not defined"
     ]
    }
   ],
   "source": [
    "# The tickers intrinsic value calculation\n",
    "ticker = yf.Ticker(\"aapl\")\n",
    "\n",
    "outstandingshares = ticker.info[\"sharesOutstanding\"] # Fetch number of shares \n",
    "# assumptions \n",
    "required_rate = 0.07\n",
    "perpetual_rate = 0.02\n",
    "cashFlowGrowthRate = 0.03\n",
    "\n",
    "years = [1,2,3,4]\n",
    "freecashflow = [50803000, 64121000, 58896000,73365000] # last 4 years, 1000s of $\n",
    "\n",
    "futureFreeCashFlow = []\n",
    "discountedFactor = []\n",
    "discountedFutureFreeCashFlow = []\n"
   ]
  }
 ],
 "metadata": {
  "kernelspec": {
   "display_name": "base",
   "language": "python",
   "name": "python3"
  },
  "language_info": {
   "codemirror_mode": {
    "name": "ipython",
    "version": 3
   },
   "file_extension": ".py",
   "mimetype": "text/x-python",
   "name": "python",
   "nbconvert_exporter": "python",
   "pygments_lexer": "ipython3",
   "version": "3.9.13"
  },
  "orig_nbformat": 4
 },
 "nbformat": 4,
 "nbformat_minor": 2
}
