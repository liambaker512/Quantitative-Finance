{
 "cells": [
  {
   "attachments": {},
   "cell_type": "markdown",
   "metadata": {},
   "source": [
    "In a straight forward deck of cars how many cards do you need to pull before you get an ace?"
   ]
  },
  {
   "cell_type": "code",
   "execution_count": 1,
   "metadata": {},
   "outputs": [],
   "source": [
    "import random \n",
    "import numpy as np"
   ]
  },
  {
   "cell_type": "code",
   "execution_count": 3,
   "metadata": {},
   "outputs": [
    {
     "data": {
      "text/plain": [
       "10.336"
      ]
     },
     "execution_count": 3,
     "metadata": {},
     "output_type": "execute_result"
    }
   ],
   "source": [
    "# generate a random deck of cards\n",
    "cards = [\"A\" if i%13 == 0 else \"NA\" for i in range(52)]\n",
    "\n",
    "# we simulate games and store each result\n",
    "cards_drawn = []\n",
    "\n",
    "for sim in range(int(1000)):\n",
    "    shuffled_cards = random.shuffle(cards)\n",
    "    for i in range(52):\n",
    "        if cards[i] == \"A\":\n",
    "            cards_drawn.append(i+1)\n",
    "            break\n",
    "\n",
    "# we check the average value \n",
    "np.mean(cards_drawn)\n"
   ]
  }
 ],
 "metadata": {
  "kernelspec": {
   "display_name": "base",
   "language": "python",
   "name": "python3"
  },
  "language_info": {
   "codemirror_mode": {
    "name": "ipython",
    "version": 3
   },
   "file_extension": ".py",
   "mimetype": "text/x-python",
   "name": "python",
   "nbconvert_exporter": "python",
   "pygments_lexer": "ipython3",
   "version": "3.9.13"
  },
  "orig_nbformat": 4
 },
 "nbformat": 4,
 "nbformat_minor": 2
}
