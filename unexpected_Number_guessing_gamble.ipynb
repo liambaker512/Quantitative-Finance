{
 "cells": [
  {
   "attachments": {},
   "cell_type": "markdown",
   "metadata": {},
   "source": [
    "You are playing a game and two number are randomly chosen from [0,1]\n",
    "\n",
    "The first number is shown to you.\n",
    "\n",
    "You MUST GUESS if the second is GREATER or SMALLER \n",
    "\n",
    "Can you find a strategy that has a win > 50% ?"
   ]
  },
  {
   "cell_type": "code",
   "execution_count": 1,
   "metadata": {},
   "outputs": [],
   "source": [
    "import numpy as np \n",
    "import random"
   ]
  },
  {
   "cell_type": "code",
   "execution_count": 2,
   "metadata": {},
   "outputs": [
    {
     "name": "stdout",
     "output_type": "stream",
     "text": [
      "Avg wins s1: 0.736\n",
      "Avg wins s2: 0.676\n"
     ]
    }
   ],
   "source": [
    "def sim():\n",
    "    a1 = random.uniform(0,1)\n",
    "    a2 = random.uniform(0,1)\n",
    "    \n",
    "    #define answer as -1/1\n",
    "    answer = np.sign(a2 - a1)\n",
    "    \n",
    "    # s1 guess based on a1/0.5\n",
    "    our_guess_s1 = np.sign(0.5 - a1)\n",
    "    \n",
    "    #s2 fuess based on simulation\n",
    "    x = random.uniform(0,1)\n",
    "    our_guess_s2 = np.sign(x-a1)\n",
    "    \n",
    "    #results \n",
    "    results_s1 = int(our_guess_s1 == answer )\n",
    "    results_s2 = int(our_guess_s2 == answer )\n",
    "    \n",
    "    return [results_s1, results_s2]\n",
    "\n",
    "\n",
    "wins = [sim() for x in  range(10**3)]\n",
    "wins_s1 = [w[0] for w in wins]\n",
    "wins_s2 = [w[1] for w in wins]\n",
    "\n",
    "\n",
    "print(f\"Avg wins s1: {np.mean(wins_s1)}\")\n",
    "print(f\"Avg wins s2: {np.mean(wins_s2)}\")"
   ]
  }
 ],
 "metadata": {
  "kernelspec": {
   "display_name": "base",
   "language": "python",
   "name": "python3"
  },
  "language_info": {
   "codemirror_mode": {
    "name": "ipython",
    "version": 3
   },
   "file_extension": ".py",
   "mimetype": "text/x-python",
   "name": "python",
   "nbconvert_exporter": "python",
   "pygments_lexer": "ipython3",
   "version": "3.9.13"
  },
  "orig_nbformat": 4
 },
 "nbformat": 4,
 "nbformat_minor": 2
}
