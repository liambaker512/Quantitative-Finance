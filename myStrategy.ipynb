{
 "cells": [
  {
   "cell_type": "code",
   "execution_count": 1,
   "metadata": {},
   "outputs": [],
   "source": []
  },
  {
   "cell_type": "code",
   "execution_count": 15,
   "metadata": {},
   "outputs": [],
   "source": []
  },
  {
   "cell_type": "code",
   "execution_count": null,
   "metadata": {},
   "outputs": [],
   "source": []
  },
  {
   "cell_type": "code",
   "execution_count": 17,
   "metadata": {},
   "outputs": [
    {
     "name": "stdout",
     "output_type": "stream",
     "text": [
      "[*********************100%***********************]  503 of 503 completed\n",
      "\n",
      "2 Failed downloads:\n",
      "- BRK.B: No timezone found, symbol may be delisted\n",
      "- BF.B: AttributeError(\"'NoneType' object has no attribute 'tz_convert'\")\n"
     ]
    },
    {
     "data": {
      "text/plain": [
       "'\\nprint(\"Top\", top_n, \"Undervalued Stocks:\")\\nprint(\"-----------------------------\")\\nfor i, (ticker, value) in enumerate(undervalued_stocks[\\'Market Cap\\'].nlargest(top_n).items()):\\n    print(i+1, ticker, value)\\n    '"
      ]
     },
     "execution_count": 17,
     "metadata": {},
     "output_type": "execute_result"
    }
   ],
   "source": [
    "import pandas as pd\n",
    "import numpy as np\n",
    "import yfinance as yf\n",
    "from datetime import datetime, timedelta\n",
    "import requests\n",
    "from bs4 import BeautifulSoup\n",
    "\n",
    "# Define the start and end dates for data retrieval\n",
    "end_date = datetime.today().strftime('%Y-%m-%d')\n",
    "start_date = (datetime.today() - timedelta(days=365)).strftime('%Y-%m-%d')\n",
    "\n",
    "# Define the minimum sales, dividend history, earnings growth, and asset and earnings value ratios for undervalued stocks\n",
    "min_sales = 700000000 # 700 million dollars\n",
    "min_dividend_years = 20\n",
    "min_earnings_growth = 0.05 # 5%\n",
    "max_price_to_book = 1.5\n",
    "max_price_to_earnings = 15\n",
    "\n",
    "# Define the number of top undervalued stocks to display\n",
    "top_n = 10\n",
    "\n",
    "# Retrieve stock tickers from a website\n",
    "url = 'https://en.wikipedia.org/wiki/List_of_S%26P_500_companies'\n",
    "response = requests.get(url)\n",
    "soup = BeautifulSoup(response.text, 'html.parser')\n",
    "table = soup.find('table', {'class': 'wikitable sortable'})\n",
    "all_tickers = []\n",
    "for row in table.findAll('tr')[1:]:\n",
    "    ticker = row.findAll('td')[0].text.strip()\n",
    "    all_tickers.append(ticker)\n",
    "\n",
    "# Retrieve stock data for all tickers\n",
    "all_data = yf.download(all_tickers, start=start_date, end=end_date)\n",
    "\n",
    "\n",
    "\n",
    "# Find stocks that meet the criteria for undervalued stocks\n",
    "\"\"\"undervalued_stocks = all_data[(all_data['Market Cap'] > min_sales) &\n",
    "                             (dividend_years == min_dividend_years) &\n",
    "                             (earnings_growth > min_earnings_growth) &\n",
    "                             (price_to_book < max_price_to_book) &\n",
    "                             (price_to_earnings < max_price_to_earnings)]\"\"\"\n",
    "\n",
    "# Display the top N undervalued stocks\n",
    "\"\"\"\n",
    "print(\"Top\", top_n, \"Undervalued Stocks:\")\n",
    "print(\"-----------------------------\")\n",
    "for i, (ticker, value) in enumerate(undervalued_stocks['Market Cap'].nlargest(top_n).items()):\n",
    "    print(i+1, ticker, value)\n",
    "    \"\"\"\n",
    "\n",
    "\n",
    "\n",
    "\n",
    "\n"
   ]
  }
 ],
 "metadata": {
  "kernelspec": {
   "display_name": "Python 3",
   "language": "python",
   "name": "python3"
  },
  "language_info": {
   "codemirror_mode": {
    "name": "ipython",
    "version": 3
   },
   "file_extension": ".py",
   "mimetype": "text/x-python",
   "name": "python",
   "nbconvert_exporter": "python",
   "pygments_lexer": "ipython3",
   "version": "3.9.13"
  },
  "orig_nbformat": 4
 },
 "nbformat": 4,
 "nbformat_minor": 2
}
