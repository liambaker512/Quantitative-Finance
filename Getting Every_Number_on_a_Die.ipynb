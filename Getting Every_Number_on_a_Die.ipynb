{
 "cells": [
  {
   "attachments": {},
   "cell_type": "markdown",
   "metadata": {},
   "source": [
    "A fair 6 - sided die is rolled until all the number show up.\n",
    "\n",
    "The order in which the numbers appear does not matter \n",
    "\n",
    "What is the expected number of die rolls?"
   ]
  },
  {
   "cell_type": "code",
   "execution_count": 5,
   "metadata": {},
   "outputs": [
    {
     "name": "stdout",
     "output_type": "stream",
     "text": [
      "0\n",
      "5\n"
     ]
    }
   ],
   "source": [
    "import random\n",
    "\n",
    "no_distinct_coupons = 6\n",
    "coupons = range(no_distinct_coupons)\n",
    "length_array = []\n",
    "\n",
    "for i in range(int(10000)):\n",
    "    coupons_gathered = set()\n",
    "    length = 0\n",
    "    while len(coupons_gathered) < no_distinct_coupons:\n",
    "        current_coupon = random.choice(coupons)\n",
    "        coupons_gathered.update([current_coupon])\n",
    "        length += 1\n",
    "    length_array.append(length)\n",
    "    "
   ]
  }
 ],
 "metadata": {
  "kernelspec": {
   "display_name": "base",
   "language": "python",
   "name": "python3"
  },
  "language_info": {
   "codemirror_mode": {
    "name": "ipython",
    "version": 3
   },
   "file_extension": ".py",
   "mimetype": "text/x-python",
   "name": "python",
   "nbconvert_exporter": "python",
   "pygments_lexer": "ipython3",
   "version": "3.9.13"
  },
  "orig_nbformat": 4
 },
 "nbformat": 4,
 "nbformat_minor": 2
}
