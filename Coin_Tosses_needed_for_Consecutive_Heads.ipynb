{
 "cells": [
  {
   "attachments": {},
   "cell_type": "markdown",
   "metadata": {},
   "source": [
    "A fair coin is tossed repeatively until there is 3 consecutive heads \n",
    "\n",
    "What is the Expected # of tosses to get 3 heads in a row?"
   ]
  },
  {
   "cell_type": "code",
   "execution_count": 8,
   "metadata": {},
   "outputs": [
    {
     "name": "stdout",
     "output_type": "stream",
     "text": [
      "3\n",
      "4\n"
     ]
    }
   ],
   "source": [
    "import random \n",
    "\n",
    "required_heads = 3 \n",
    "length_array = []\n",
    "\n",
    "for i in range(int(1000)):\n",
    "    heads = 0\n",
    "    length = 0\n",
    "    while heads < required_heads:\n",
    "        length += 1 \n",
    "        if random.choice([\"H\",\"T\"]) == \"H\":\n",
    "            heads += 1 \n",
    "        else:\n",
    "            heads = 0\n",
    "        length_array.append(length)\n"
   ]
  }
 ],
 "metadata": {
  "kernelspec": {
   "display_name": "base",
   "language": "python",
   "name": "python3"
  },
  "language_info": {
   "codemirror_mode": {
    "name": "ipython",
    "version": 3
   },
   "file_extension": ".py",
   "mimetype": "text/x-python",
   "name": "python",
   "nbconvert_exporter": "python",
   "pygments_lexer": "ipython3",
   "version": "3.9.13"
  },
  "orig_nbformat": 4
 },
 "nbformat": 4,
 "nbformat_minor": 2
}
