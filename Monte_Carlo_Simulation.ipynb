{
 "cells": [
  {
   "attachments": {},
   "cell_type": "markdown",
   "metadata": {},
   "source": [
    "<H2> Imports <H2>\n"
   ]
  },
  {
   "cell_type": "code",
   "execution_count": null,
   "metadata": {},
   "outputs": [],
   "source": [
    "import pandas as pd \n",
    "import datetime as dt \n",
    "from pandas_datareader import data as pdr\n",
    "import numpy as np \n",
    "import matplotlib.pyplot as plt\n",
    "import yfinance as yf\n"
   ]
  },
  {
   "attachments": {},
   "cell_type": "markdown",
   "metadata": {},
   "source": [
    "<H3> Quote Data <H3>"
   ]
  },
  {
   "cell_type": "code",
   "execution_count": null,
   "metadata": {},
   "outputs": [],
   "source": [
    "def get_data(stocks, start, end ):\n",
    "    stockData = yf.download(stocks, start= startDate, end= endDate)\n",
    "    stockData = stockData[\"Close\"]\n",
    "    returns = stockData.pct_change()\n",
    "    meanReturns = returns.mean()\n",
    "    covMatrix = returns.cov()\n",
    "    return meanReturns, covMatrix\n",
    "\n",
    "# this is the  stocks that are searched through Y Finance stock data \n",
    "# stocks = [\"AAPL\",\"PARA\",\"JNJ\",\"REKR\",\"DIS\"]\n",
    "#stocks = [\"AIG\",\"NEM\",\"MRNA\",\"KR\",\"FSLR\",\"SJM\",\"MOS\",\"CLX\",\"KDP\",\"PCG\",\"OGN\",\"EQT\",\"BKR\",\"CPB\"]\n",
    "stocks = [\"SPY\"]\n",
    "# endDate is the current data as is\n",
    "endDate = dt.datetime.now()\n",
    "#startDate = Current Date - dt Delta Time 300 days #! days is good number to mess with \n",
    "startDate = endDate - dt.timedelta(days= 300)\n",
    "# this takes the meanReturns and takes the covariance Matrix which stores data\n",
    "meanReturns, covMatrix = get_data(stocks, startDate, endDate)\n",
    "print(meanReturns)"
   ]
  },
  {
   "cell_type": "code",
   "execution_count": null,
   "metadata": {},
   "outputs": [],
   "source": [
    "# this creates the shape of the matrix, this is important because it assigns random weightings and has no bias\n",
    "\n",
    "weights = np.random.random(len(meanReturns))\n",
    "weights /= np.sum(weights)\n",
    "\n",
    "print(weights)\n"
   ]
  },
  {
   "attachments": {},
   "cell_type": "markdown",
   "metadata": {},
   "source": [
    "<H2>Monte Carlo Simulation<H2>"
   ]
  },
  {
   "cell_type": "code",
   "execution_count": null,
   "metadata": {},
   "outputs": [],
   "source": [
    "mc_sims = 10000 #! great numbers to test out number of simulations the it will run \n",
    "T = 365 # timeframe in days \n",
    "\n",
    "meanM = np.full(shape= (T, len(weights)), fill_value = meanReturns)\n",
    "meanM = meanM.T \n",
    "\n",
    "portfolio_sims = np.full(shape = (T, mc_sims), fill_value= 0.0)\n",
    "\n",
    "initialPortfolio = 10000 # this is the number assigned to the portfolio initally\n",
    "\n",
    "for m in range(0, mc_sims):  #? T = Timeframe in days \n",
    "    #MC Loops       #?      (T * Number of stocks we have) \n",
    "    Z = np.random.normal(size=(T, len(weights)))\n",
    "    L = np.linalg.cholesky(covMatrix) #! finds lower triangle for Cholesky Decompesition\n",
    "    dailyReturns = meanM + np.inner(L, Z)\n",
    "    portfolio_sims[:,m] = np.cumprod(np.inner(weights, dailyReturns.T)+1)*initialPortfolio # This accounts for the cumlative effect of daily Return\n",
    "\n",
    "plt.plot(portfolio_sims)\n",
    "plt.ylabel(\"Portfolio Value ($)\")\n",
    "plt.xlabel(\"Days\")\n",
    "plt.title(\"MC simulation of a stock portfolio\")\n",
    "plt.show()"
   ]
  },
  {
   "attachments": {},
   "cell_type": "markdown",
   "metadata": {},
   "source": [
    "<H2>Value at Risk<H2>"
   ]
  },
  {
   "cell_type": "code",
   "execution_count": null,
   "metadata": {},
   "outputs": [],
   "source": [
    "def mcVAR(returns, alpha = 5 ):\n",
    "    \"Input : pandas series of returns\"\n",
    "    \"Output: CVar or Expected Shortfall to a given confidence level alpha\"\n",
    "    if isinstance(returns, pd.Series):\n",
    "        return np.percentile(returns, alpha)\n",
    "    else:\n",
    "        raise TypeError (\"Expected a pandas data series.\")\n",
    "    \n",
    "    \n",
    "def mcCVAR(returns, alpha = 5 ):\n",
    "    \"Input : pandas series of returns\"\n",
    "    \"Output: McCVar or Expected Shortfall to a given confidence level alpha\"\n",
    "    if isinstance(returns, pd.Series):\n",
    "        belowVaR = returns <= mcVAR(returns, alpha = alpha)\n",
    "        return returns[belowVaR].mean()\n",
    "    else:\n",
    "        raise TypeError (\"Expected a pandas data series.\")\n",
    "    \n",
    "    \n",
    "portResults = pd.Series(portfolio_sims[-1,:])\n",
    "\n",
    "VaR = initialPortfolio - mcVAR(portResults, alpha = 5)\n",
    "CVaR = initialPortfolio -  mcCVAR(portResults, alpha = 5)\n",
    "\n",
    "print(\"VaR${}\".format(round(VaR,2)))\n",
    "print(\"CVaR${}\".format(round(CVaR,2)))"
   ]
  }
 ],
 "metadata": {
  "kernelspec": {
   "display_name": "base",
   "language": "python",
   "name": "python3"
  },
  "language_info": {
   "codemirror_mode": {
    "name": "ipython",
    "version": 3
   },
   "file_extension": ".py",
   "mimetype": "text/x-python",
   "name": "python",
   "nbconvert_exporter": "python",
   "pygments_lexer": "ipython3",
   "version": "3.9.13"
  },
  "orig_nbformat": 4
 },
 "nbformat": 4,
 "nbformat_minor": 2
}
