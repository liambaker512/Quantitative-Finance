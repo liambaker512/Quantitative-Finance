{
 "cells": [
  {
   "attachments": {},
   "cell_type": "markdown",
   "metadata": {},
   "source": [
    "Rick and Morty flip coins respectively \n",
    "\n",
    "Rick 21 Times, Morty 20 Times \n",
    "\n",
    "What is the probability Rick will get more heads?"
   ]
  },
  {
   "cell_type": "code",
   "execution_count": 1,
   "metadata": {},
   "outputs": [],
   "source": [
    "import numpy as np \n",
    "import random "
   ]
  },
  {
   "cell_type": "code",
   "execution_count": 6,
   "metadata": {},
   "outputs": [
    {
     "data": {
      "text/plain": [
       "0.369"
      ]
     },
     "execution_count": 6,
     "metadata": {},
     "output_type": "execute_result"
    }
   ],
   "source": [
    "x_flips = 20\n",
    "y_flips = 21\n",
    "x_wins = []\n",
    "\n",
    "for i in range (int(1000)):\n",
    "    x_heads = 0\n",
    "    y_heads = 0\n",
    "    \n",
    "    for j in range(x_flips):\n",
    "        if random.choice([\"H\", \"Y\"]) == \"H\": \n",
    "            x_heads+= 1 \n",
    "    \n",
    "    for j in range(y_flips):\n",
    "        if random.choice([\"H\", \"T\"]) == \"H\":\n",
    "            y_heads += 1 \n",
    "    x_wins.append(int(x_heads > y_heads))\n",
    "np.mean(x_wins)"
   ]
  },
  {
   "cell_type": "markdown",
   "metadata": {},
   "source": []
  }
 ],
 "metadata": {
  "kernelspec": {
   "display_name": "base",
   "language": "python",
   "name": "python3"
  },
  "language_info": {
   "codemirror_mode": {
    "name": "ipython",
    "version": 3
   },
   "file_extension": ".py",
   "mimetype": "text/x-python",
   "name": "python",
   "nbconvert_exporter": "python",
   "pygments_lexer": "ipython3",
   "version": "3.9.13"
  },
  "orig_nbformat": 4
 },
 "nbformat": 4,
 "nbformat_minor": 2
}
