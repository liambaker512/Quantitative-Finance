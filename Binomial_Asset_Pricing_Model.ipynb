{
 "cells": [
  {
   "cell_type": "code",
   "execution_count": 4,
   "metadata": {},
   "outputs": [],
   "source": [
    "import numpy as np \n",
    "from functools import wraps \n",
    "from time import time"
   ]
  },
  {
   "attachments": {},
   "cell_type": "markdown",
   "metadata": {},
   "source": [
    "<H4> Option Inputs <H4>"
   ]
  },
  {
   "cell_type": "code",
   "execution_count": 2,
   "metadata": {},
   "outputs": [],
   "source": [
    "# Initialise parameters\n",
    "S0 = 100        # inital stock price\n",
    "K = 100         # strike price\n",
    "T = 1           # time to maturity in years\n",
    "r = 0.045       # annual risk-free rate\n",
    "N = 3           # Number of time steps \n",
    "u = 1.1         # up-factor in binomal models\n",
    "d = 1/u         # ensure recombining tree\n",
    "opttype = \"P\"   #Option Type 'C' or 'P'\n",
    "        "
   ]
  },
  {
   "attachments": {},
   "cell_type": "markdown",
   "metadata": {},
   "source": [
    "<h3> American Tree Slow <h3>\n",
    "<h5>We will use for loops to iterate through nodes j at each step i<h5>"
   ]
  },
  {
   "cell_type": "code",
   "execution_count": 5,
   "metadata": {},
   "outputs": [
    {
     "data": {
      "text/plain": [
       "5.238420097499048"
      ]
     },
     "execution_count": 5,
     "metadata": {},
     "output_type": "execute_result"
    }
   ],
   "source": [
    "def american_slow_tree(K,T,S0,r,N,u,d,opttype = \"P\"):\n",
    "    # precompute values \n",
    "    dt = T/N\n",
    "    q =(np.exp(r*dt) - d)/ (u-d)\n",
    "    disc =  np.exp(-r*dt)\n",
    "    \n",
    "    # intialize stock prices at maturity \n",
    "    S = np.zeros(N+1)\n",
    "    for j in range(0, N+1):\n",
    "        S[j] = S0 * u **j * d**(N-j)\n",
    "    \n",
    "    # option payoff\n",
    "    \n",
    "    C = np.zeros(N+1)\n",
    "    for j in range(0, N+1):\n",
    "        if opttype == \"P\":\n",
    "            C[j] = max(0, K - S[j])\n",
    "        else:\n",
    "            C[j] = max(0, S[j] - K)\n",
    "            \n",
    "    # backward recuring through the tree\n",
    "    \n",
    "    for i in np.arange(N -1,-1,-1):\n",
    "        for j in range(0,i +1):\n",
    "            S = S0 * u ** j * d**(i-j)\n",
    "            C[j] = disc * (q* C[ j +1 ]  + (1-q) * C[j])\n",
    "            if opttype == \"P\":\n",
    "                C[j] = max(C[j], K - S)\n",
    "            else:\n",
    "                C[j] = max(C[j], S - K)\n",
    "    \n",
    "    return C[0]\n",
    "american_slow_tree(K,T,S0,r,N,u,d,opttype = \"P\")"
   ]
  },
  {
   "attachments": {},
   "cell_type": "markdown",
   "metadata": {},
   "source": [
    "<H3> Fast Version Using Numpy Arrays<H3>"
   ]
  },
  {
   "cell_type": "code",
   "execution_count": 6,
   "metadata": {},
   "outputs": [
    {
     "data": {
      "text/plain": [
       "5.238420097499048"
      ]
     },
     "execution_count": 6,
     "metadata": {},
     "output_type": "execute_result"
    }
   ],
   "source": [
    "def american_fast_tree(K,T,S0,r,N,u,d,opttype = \"P\"):\n",
    "    # precompute values \n",
    "    dt = T/N\n",
    "    q = (np.exp(r*dt) - d)/ (u-d)\n",
    "    disc =  np.exp(-r*dt)\n",
    "    \n",
    "    # intialize stock prices at maturity \n",
    "    S = S0 * d**(np.arange(N, -1,-1)) * u **(np.arange(0,N+1,1))\n",
    "    \n",
    "    # option payoff\n",
    "    if opttype == \"P\":\n",
    "        C = np.maximum(0, K - S)\n",
    "    else:\n",
    "        C = np.maximum(0, S - K)\n",
    "            \n",
    "    # backward recuring through the tree\n",
    "    \n",
    "    for i in np.arange(N -1,-1,-1):\n",
    "        S = S0 * d**(np.arange(i, -1,-1)) * u **(np.arange(0,i +1,1))\n",
    "        C[:i+1] = disc * (q* C[1:i+2] + (1-q) * C[0:i +1])\n",
    "        C = C[:-1]\n",
    "        if opttype == \"P\":\n",
    "            C = np.maximum(C, K - S)\n",
    "        else:\n",
    "            C = np.maximum(C, S - K)\n",
    "    return C[0]\n",
    "\n",
    "american_fast_tree(K,T,S0,r,N,u,d,opttype = \"P\")"
   ]
  },
  {
   "cell_type": "code",
   "execution_count": 36,
   "metadata": {},
   "outputs": [],
   "source": [
    "# Initialise parameters\n",
    "S0 = 100        # inital stock price\n",
    "K = 100         # strike price\n",
    "T = 1           # time to maturity in years\n",
    "r = 0.06       # annual risk-free rate\n",
    "N = 3           # Number of time steps \n",
    "u = 1.1         # up-factor in binomal models\n",
    "d = 1/u\n",
    "sigma = 0.3        # ensure recombining tree\n",
    "opttype = \"P\"   #Option Type 'C' or 'P'"
   ]
  },
  {
   "attachments": {},
   "cell_type": "markdown",
   "metadata": {},
   "source": [
    "<H3> Cox, Ross and Rubinstien (CRR) Method <H3>"
   ]
  },
  {
   "cell_type": "code",
   "execution_count": 33,
   "metadata": {},
   "outputs": [
    {
     "data": {
      "text/plain": [
       "10.25146322970778"
      ]
     },
     "execution_count": 33,
     "metadata": {},
     "output_type": "execute_result"
    }
   ],
   "source": [
    "def CRR_method(K,T,S0,r,N,sigma,opttype = \"P\"):\n",
    "    # precompute values \n",
    "    dt = T/N\n",
    "    u = np.exp(sigma* np.sqrt(dt))\n",
    "    d = 1/u\n",
    "    q =(np.exp(r*dt) - d)/ (u-d)\n",
    "    disc =  np.exp(-r*dt)\n",
    "    \n",
    "    # intialize stock prices at maturity \n",
    "    S = np.zeros(N+1)\n",
    "    S[0] = S0 * d** N\n",
    "    for j in range(0, N+1):\n",
    "        S[j] = S[j-1]*u/d\n",
    "    \n",
    "    # option payoff\n",
    "    \n",
    "    C = np.zeros(N+1)\n",
    "    for j in range(0, N+1):\n",
    "        if opttype == \"P\":\n",
    "            C[j] = max(0, K - S[j])\n",
    "        else:\n",
    "            C[j] = max(0, S[j] - K)\n",
    "            \n",
    "    # backward recuring through the tree\n",
    "    \n",
    "    for i in np.arange(N -1,-1,-1):\n",
    "        for j in range(0,i +1):\n",
    "            S = S0 * u ** j * d**(i-j)\n",
    "            C[j] = disc * (q* C[ j +1 ]  + (1-q) * C[j])\n",
    "            if opttype == \"P\":\n",
    "                C[j] = max(C[j], K - S)\n",
    "            else:\n",
    "                C[j] = max(C[j], S - K)\n",
    "    \n",
    "    return C[0]\n",
    "\n",
    "CRR_method(K,T,S0,r,N,sigma,opttype = \"P\")"
   ]
  },
  {
   "cell_type": "code",
   "execution_count": 38,
   "metadata": {},
   "outputs": [
    {
     "data": {
      "text/plain": [
       "94.17645335842487"
      ]
     },
     "execution_count": 38,
     "metadata": {},
     "output_type": "execute_result"
    }
   ],
   "source": [
    "def JR_method(K,T,S0,r,N,sigma,opttype = \"C\"):\n",
    "    # precompute values \n",
    "    dt = T/N\n",
    "    nu = r - 0.5* sigma **2\n",
    "    u = np.exp(nu * dt + sigma*np.sqrt(dt))\n",
    "    d = np.exp(nu * dt - sigma*np.sqrt(dt))\n",
    "    q = 0.5\n",
    "    disc =  np.exp(-r*dt)\n",
    "    \n",
    "    # intialize stock prices at maturity \n",
    "    S = np.zeros(N+1)\n",
    "    S[0] = S0 * d ** N\n",
    "    for j in range(0, N+1):\n",
    "        S[j] = S[j-1]*u/d\n",
    "    \n",
    "    # option payoff\n",
    "    \n",
    "    C = np.zeros(N+1)\n",
    "    for j in range(0, N+1):\n",
    "        if opttype == \"C\":\n",
    "            C[j] = max(0, K - S[j])\n",
    "        else:\n",
    "            C[j] = max(0, S[j] - K)\n",
    "            \n",
    "    # backward recuring through the tree\n",
    "    \n",
    "    for i in np.arange(N -1,-1,-1):\n",
    "        for j in range(0,i +1):\n",
    "            S = S0 * u ** j * d**(i-j)\n",
    "            C[j] = disc * (q* C[ j +1 ]  + (1-q) * C[j])\n",
    "    \n",
    "    return C[0]\n",
    "\n",
    "JR_method(K,T,S0,r,N,sigma,opttype = \"C\")"
   ]
  }
 ],
 "metadata": {
  "kernelspec": {
   "display_name": "Python 3",
   "language": "python",
   "name": "python3"
  },
  "language_info": {
   "codemirror_mode": {
    "name": "ipython",
    "version": 3
   },
   "file_extension": ".py",
   "mimetype": "text/x-python",
   "name": "python",
   "nbconvert_exporter": "python",
   "pygments_lexer": "ipython3",
   "version": "3.9.13"
  },
  "orig_nbformat": 4
 },
 "nbformat": 4,
 "nbformat_minor": 2
}
