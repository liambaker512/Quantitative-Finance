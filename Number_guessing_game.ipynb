{
 "cells": [
  {
   "attachments": {},
   "cell_type": "markdown",
   "metadata": {},
   "source": [
    "You must pick a real number x between (0, 924) a number y is uniformly and randomly selected in the same range. \n",
    "If X > Y you have to pay the Square of the difference. \n",
    "If Y > X you have to pay double the difference.\n",
    "\n",
    "What Number Should You Pick?\n"
   ]
  },
  {
   "cell_type": "code",
   "execution_count": 1,
   "metadata": {},
   "outputs": [
    {
     "data": {
      "text/plain": [
       "42.00003212224446"
      ]
     },
     "execution_count": 1,
     "metadata": {},
     "output_type": "execute_result"
    }
   ],
   "source": [
    "import scipy.integrate as intergrate \n",
    "from scipy.optimize import minimize\n",
    "\n",
    "ub = 924 \n",
    "\n",
    "def cost(x,y):\n",
    "    if y < x:\n",
    "        return (x-y)**2\n",
    "    else:\n",
    "        return (y-x)*2\n",
    "    \n",
    "def f(x):\n",
    "    return intergrate.quad(lambda y: cost(x, y), 0,ub) [0]\n",
    "\n",
    "minimize(f,1).x[0]"
   ]
  }
 ],
 "metadata": {
  "kernelspec": {
   "display_name": "base",
   "language": "python",
   "name": "python3"
  },
  "language_info": {
   "codemirror_mode": {
    "name": "ipython",
    "version": 3
   },
   "file_extension": ".py",
   "mimetype": "text/x-python",
   "name": "python",
   "nbconvert_exporter": "python",
   "pygments_lexer": "ipython3",
   "version": "3.9.13"
  },
  "orig_nbformat": 4
 },
 "nbformat": 4,
 "nbformat_minor": 2
}
