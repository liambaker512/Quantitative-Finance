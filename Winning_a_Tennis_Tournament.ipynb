{
 "cells": [
  {
   "cell_type": "code",
   "execution_count": 5,
   "metadata": {},
   "outputs": [],
   "source": [
    "import numpy as np\n",
    "import random"
   ]
  },
  {
   "cell_type": "code",
   "execution_count": 11,
   "metadata": {},
   "outputs": [
    {
     "name": "stdout",
     "output_type": "stream",
     "text": [
      "A\n"
     ]
    }
   ],
   "source": [
    "def sim_tournaments(required_games = 2):\n",
    "    players = set([\"A\",\"B\",\"C\"])\n",
    "    bench = set(\"C\")\n",
    "    prev_winner = np.nan\n",
    "    count_wins = 0\n",
    "    while count_wins != required_games:\n",
    "        match_players = players - bench \n",
    "        match_winner = random.choice(list(match_players))\n",
    "        bench = match_players - set(match_winner)\n",
    "        if match_winner == prev_winner: \n",
    "            count_wins += 1 \n",
    "        else:\n",
    "            count_wins = 1 \n",
    "            prev_winner = match_winner \n",
    "    return match_winner\n",
    "\n",
    "print(sim_tournaments(required_games = 2))"
   ]
  }
 ],
 "metadata": {
  "kernelspec": {
   "display_name": "base",
   "language": "python",
   "name": "python3"
  },
  "language_info": {
   "codemirror_mode": {
    "name": "ipython",
    "version": 3
   },
   "file_extension": ".py",
   "mimetype": "text/x-python",
   "name": "python",
   "nbconvert_exporter": "python",
   "pygments_lexer": "ipython3",
   "version": "3.9.13"
  },
  "orig_nbformat": 4
 },
 "nbformat": 4,
 "nbformat_minor": 2
}
