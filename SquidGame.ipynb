{
 "cells": [
  {
   "attachments": {},
   "cell_type": "markdown",
   "metadata": {},
   "source": [
    "Ahead of the players us a bridge with 18 steps, each made of a pair of glass tiles. one of them can hold the weight of a player the other cannot. Players advance on the bridge in predeterimined order, one pair of tiles at a time. If they choose a solid tile, they advance, if they choose otherwise they are out. \n",
    "\n",
    "What is the expected number of survivors in a 16 player game"
   ]
  },
  {
   "cell_type": "code",
   "execution_count": 4,
   "metadata": {},
   "outputs": [
    {
     "name": "stdout",
     "output_type": "stream",
     "text": [
      "5\n"
     ]
    }
   ],
   "source": [
    "\n",
    "import random\n",
    "\n",
    "def sim_game(no_players, no_steps ):\n",
    "    end = 0\n",
    "    for i in range(1, no_players +1):\n",
    "        for j in range (0, no_steps):\n",
    "            if random.choice([0,1])> 0:\n",
    "                end += 1 \n",
    "                if end >= no_steps:\n",
    "                    return no_players + 1 - i \n",
    "                \n",
    "            else: \n",
    "                end += 1 \n",
    "                if end >= no_steps:\n",
    "                    return no_players - i \n",
    "                break\n",
    "    return 0\n",
    "\n",
    "\n",
    "print(sim_game(16,18))"
   ]
  }
 ],
 "metadata": {
  "kernelspec": {
   "display_name": "base",
   "language": "python",
   "name": "python3"
  },
  "language_info": {
   "codemirror_mode": {
    "name": "ipython",
    "version": 3
   },
   "file_extension": ".py",
   "mimetype": "text/x-python",
   "name": "python",
   "nbconvert_exporter": "python",
   "pygments_lexer": "ipython3",
   "version": "3.9.13"
  },
  "orig_nbformat": 4
 },
 "nbformat": 4,
 "nbformat_minor": 2
}
